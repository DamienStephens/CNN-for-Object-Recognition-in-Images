{
 "cells": [
  {
   "cell_type": "markdown",
   "metadata": {},
   "source": [
    "Created by: Damien Stephens <br>\n",
    "Created on: August 27, 2020\n",
    "\n",
    "A simple example of a convolutional neural network (CNN) for object recognition in images using the CIFAR-10 dataset."
   ]
  },
  {
   "cell_type": "markdown",
   "metadata": {},
   "source": [
    "# Imports"
   ]
  },
  {
   "cell_type": "code",
   "execution_count": 47,
   "metadata": {},
   "outputs": [],
   "source": [
    "import tensorflow as tf\n",
    "import numpy as np\n",
    "import pandas as pd\n",
    "import matplotlib.pyplot as plt\n",
    "import itertools\n",
    "\n",
    "from sklearn.metrics import confusion_matrix, accuracy_score"
   ]
  },
  {
   "cell_type": "markdown",
   "metadata": {},
   "source": [
    "# Data Preprocessing"
   ]
  },
  {
   "cell_type": "code",
   "execution_count": 2,
   "metadata": {},
   "outputs": [
    {
     "name": "stdout",
     "output_type": "stream",
     "text": [
      "x_train shape: (50000, 32, 32, 3)\n",
      "y_train shape: (50000, 1)\n",
      "x_test shape:  (10000, 32, 32, 3)\n",
      "y_test shape:  (50000, 1)\n"
     ]
    }
   ],
   "source": [
    "# import the cifar10 dataset from tensorflow\n",
    "from tensorflow.keras.datasets import cifar10\n",
    "\n",
    "# load the dataset\n",
    "(x_train, y_train), (x_test, y_test) = cifar10.load_data()\n",
    "\n",
    "# print the shape of the loaded data\n",
    "print(f'x_train shape: {x_train.shape}')\n",
    "print(f'y_train shape: {y_train.shape}')\n",
    "print(f'x_test shape:  {x_test.shape}')\n",
    "print(f'y_test shape:  {y_train.shape}')"
   ]
  },
  {
   "cell_type": "code",
   "execution_count": 3,
   "metadata": {},
   "outputs": [],
   "source": [
    "# create a list to hold the category labels\n",
    "class_names = ['0: airplane', '1: automobile', '2: bird', '3: cat', '4: deer', \n",
    "               '5: dog', '6: frog', '7: horse', '8: ship', '9: truck']"
   ]
  },
  {
   "cell_type": "code",
   "execution_count": 4,
   "metadata": {},
   "outputs": [
    {
     "name": "stdout",
     "output_type": "stream",
     "text": [
      "x_train max:  255\n",
      "x_train min:  0\n",
      "x_train mean: 120.71\n",
      "--------------------\n",
      "y_train max:  9\n",
      "y_train min:  0\n",
      "y_train mean: 4.50\n"
     ]
    }
   ],
   "source": [
    "# check the minimum, maximum, and mean values in x_train and y_train\n",
    "print(f'x_train max:  {x_train.max()}')\n",
    "print(f'x_train min:  {x_train.min()}')\n",
    "print(f'x_train mean: {x_train.mean():.2f}')\n",
    "print('--------------------')\n",
    "print(f'y_train max:  {y_train.max()}')\n",
    "print(f'y_train min:  {y_train.min()}')\n",
    "print(f'y_train mean: {y_train.mean():.2f}')"
   ]
  },
  {
   "cell_type": "code",
   "execution_count": 5,
   "metadata": {},
   "outputs": [],
   "source": [
    "# normalize the images\n",
    "x_train = x_train / 255.0\n",
    "x_test = x_test / 255.0"
   ]
  },
  {
   "cell_type": "code",
   "execution_count": 6,
   "metadata": {},
   "outputs": [
    {
     "name": "stdout",
     "output_type": "stream",
     "text": [
      "x_train max:  1.0\n",
      "x_train min:  0.0\n",
      "x_train mean: 0.47\n"
     ]
    }
   ],
   "source": [
    "# check the new minimum, maximum, and mean values in x_train\n",
    "print(f'x_train max:  {x_train.max()}')\n",
    "print(f'x_train min:  {x_train.min()}')\n",
    "print(f'x_train mean: {x_train.mean():.2f}')"
   ]
  },
  {
   "cell_type": "code",
   "execution_count": 7,
   "metadata": {},
   "outputs": [
    {
     "name": "stdout",
     "output_type": "stream",
     "text": [
      "x_train shape: (50000, 32, 32, 3)\n",
      "x_test shape:  (10000, 32, 32, 3)\n"
     ]
    }
   ],
   "source": [
    "# check the shape of x_train and x_test\n",
    "# x_train: 50000 images, 32 x 32 in size, with a depth of 3 (RGB)\n",
    "print(f'x_train shape: {x_train.shape}')\n",
    "print(f'x_test shape:  {x_test.shape}')"
   ]
  },
  {
   "cell_type": "code",
   "execution_count": 8,
   "metadata": {},
   "outputs": [
    {
     "data": {
      "image/png": "[encoded data removed]",
      "text/plain": [
       "<Figure size 432x288 with 1 Axes>"
      ]
     },
     "metadata": {
      "needs_background": "light"
     },
     "output_type": "display_data"
    },
    {
     "name": "stdout",
     "output_type": "stream",
     "text": [
      "6: frog\n"
     ]
    }
   ],
   "source": [
    "# check one of the images and verify what it is\n",
    "plt.imshow(x_train[0])\n",
    "plt.show()\n",
    "print(class_names[y_train[0][0]])"
   ]
  },
  {
   "cell_type": "markdown",
   "metadata": {},
   "source": [
    "# Build the CNN"
   ]
  },
  {
   "cell_type": "code",
   "execution_count": 9,
   "metadata": {},
   "outputs": [],
   "source": [
    "# define the object\n",
    "model = tf.keras.models.Sequential()"
   ]
  },
  {
   "cell_type": "code",
   "execution_count": 10,
   "metadata": {},
   "outputs": [],
   "source": [
    "# add the 1st CNN layer\n",
    "# parameters:\n",
    "# 1) filters (kernel) = 32\n",
    "# 2) kernel size = 3\n",
    "# 3) padding = same\n",
    "# 4) activation function = relu\n",
    "# 5) input shape = (32, 32, 3)\n",
    "model.add(tf.keras.layers.Conv2D(filters=32, kernel_size=3, padding='same', activation='relu', input_shape=[32, 32, 3]))"
   ]
  },
  {
   "cell_type": "code",
   "execution_count": 11,
   "metadata": {},
   "outputs": [],
   "source": [
    "# add 2nd CNN layer\n",
    "model.add(tf.keras.layers.Conv2D(filters=32, kernel_size=3, padding='same', activation='relu'))\n",
    "\n",
    "# maxpool layer\n",
    "# parameters:\n",
    "# 1) pool size = 2\n",
    "# 2) strides = 2\n",
    "# 3) padding = valid\n",
    "model.add(tf.keras.layers.MaxPool2D(pool_size=2, strides=2, padding='valid'))"
   ]
  },
  {
   "cell_type": "code",
   "execution_count": 12,
   "metadata": {},
   "outputs": [],
   "source": [
    "# add 3rd CNN layer\n",
    "model.add(tf.keras.layers.Conv2D(filters=64, kernel_size=3, padding='same', activation='relu'))"
   ]
  },
  {
   "cell_type": "code",
   "execution_count": 13,
   "metadata": {},
   "outputs": [],
   "source": [
    "# add 4th CNN layer\n",
    "model.add(tf.keras.layers.Conv2D(filters=64, kernel_size=3, padding='same', activation='relu'))\n",
    "\n",
    "# add 2nd maxpool layer\n",
    "model.add(tf.keras.layers.MaxPool2D(pool_size=2, strides=2, padding='valid'))"
   ]
  },
  {
   "cell_type": "code",
   "execution_count": 14,
   "metadata": {},
   "outputs": [],
   "source": [
    "# add dropout layer\n",
    "model.add(tf.keras.layers.Dropout(0.4))"
   ]
  },
  {
   "cell_type": "code",
   "execution_count": 15,
   "metadata": {},
   "outputs": [],
   "source": [
    "# add flattening layer\n",
    "model.add(tf.keras.layers.Flatten())"
   ]
  },
  {
   "cell_type": "code",
   "execution_count": 16,
   "metadata": {},
   "outputs": [],
   "source": [
    "# add the fully connected (dense) layers\n",
    "\n",
    "# add the first dense layer\n",
    "model.add(tf.keras.layers.Dense(units=128, activation='relu'))\n",
    "\n",
    "# add the second dense layer (output layer)\n",
    "model.add(tf.keras.layers.Dense(units=10, activation='softmax'))"
   ]
  },
  {
   "cell_type": "code",
   "execution_count": 17,
   "metadata": {},
   "outputs": [
    {
     "name": "stdout",
     "output_type": "stream",
     "text": [
      "Model: \"sequential\"\n",
      "_________________________________________________________________\n",
      "Layer (type)                 Output Shape              Param #   \n",
      "=================================================================\n",
      "conv2d (Conv2D)              (None, 32, 32, 32)        896       \n",
      "_________________________________________________________________\n",
      "conv2d_1 (Conv2D)            (None, 32, 32, 32)        9248      \n",
      "_________________________________________________________________\n",
      "max_pooling2d (MaxPooling2D) (None, 16, 16, 32)        0         \n",
      "_________________________________________________________________\n",
      "conv2d_2 (Conv2D)            (None, 16, 16, 64)        18496     \n",
      "_________________________________________________________________\n",
      "conv2d_3 (Conv2D)            (None, 16, 16, 64)        36928     \n",
      "_________________________________________________________________\n",
      "max_pooling2d_1 (MaxPooling2 (None, 8, 8, 64)          0         \n",
      "_________________________________________________________________\n",
      "dropout (Dropout)            (None, 8, 8, 64)          0         \n",
      "_________________________________________________________________\n",
      "flatten (Flatten)            (None, 4096)              0         \n",
      "_________________________________________________________________\n",
      "dense (Dense)                (None, 128)               524416    \n",
      "_________________________________________________________________\n",
      "dense_1 (Dense)              (None, 10)                1290      \n",
      "=================================================================\n",
      "Total params: 591,274\n",
      "Trainable params: 591,274\n",
      "Non-trainable params: 0\n",
      "_________________________________________________________________\n"
     ]
    }
   ],
   "source": [
    "# show the model summary\n",
    "model.summary()"
   ]
  },
  {
   "cell_type": "markdown",
   "metadata": {},
   "source": [
    "# Train the Model"
   ]
  },
  {
   "cell_type": "code",
   "execution_count": 18,
   "metadata": {},
   "outputs": [],
   "source": [
    "# compile the model\n",
    "model.compile(optimizer='adam', loss='sparse_categorical_crossentropy', metrics=['sparse_categorical_accuracy'])"
   ]
  },
  {
   "cell_type": "code",
   "execution_count": 19,
   "metadata": {},
   "outputs": [
    {
     "name": "stdout",
     "output_type": "stream",
     "text": [
      "Epoch 1/24\n",
      "391/391 [==============================] - 43s 109ms/step - loss: 1.5123 - sparse_categorical_accuracy: 0.4544\n",
      "Epoch 2/24\n",
      "391/391 [==============================] - 43s 111ms/step - loss: 1.0886 - sparse_categorical_accuracy: 0.6149\n",
      "Epoch 3/24\n",
      "391/391 [==============================] - 46s 117ms/step - loss: 0.9172 - sparse_categorical_accuracy: 0.6766\n",
      "Epoch 4/24\n",
      "391/391 [==============================] - 46s 118ms/step - loss: 0.8098 - sparse_categorical_accuracy: 0.7142\n",
      "Epoch 5/24\n",
      "391/391 [==============================] - 46s 119ms/step - loss: 0.7196 - sparse_categorical_accuracy: 0.7468\n",
      "Epoch 6/24\n",
      "391/391 [==============================] - 47s 120ms/step - loss: 0.6542 - sparse_categorical_accuracy: 0.7698\n",
      "Epoch 7/24\n",
      "391/391 [==============================] - 47s 120ms/step - loss: 0.5937 - sparse_categorical_accuracy: 0.7911\n",
      "Epoch 8/24\n",
      "391/391 [==============================] - 46s 117ms/step - loss: 0.5416 - sparse_categorical_accuracy: 0.8072\n",
      "Epoch 9/24\n",
      "391/391 [==============================] - 44s 114ms/step - loss: 0.4974 - sparse_categorical_accuracy: 0.8230\n",
      "Epoch 10/24\n",
      "391/391 [==============================] - 45s 116ms/step - loss: 0.4600 - sparse_categorical_accuracy: 0.8364\n",
      "Epoch 11/24\n",
      "391/391 [==============================] - 45s 115ms/step - loss: 0.4281 - sparse_categorical_accuracy: 0.8465\n",
      "Epoch 12/24\n",
      "391/391 [==============================] - 45s 115ms/step - loss: 0.3900 - sparse_categorical_accuracy: 0.8602\n",
      "Epoch 13/24\n",
      "391/391 [==============================] - 44s 113ms/step - loss: 0.3572 - sparse_categorical_accuracy: 0.8710\n",
      "Epoch 14/24\n",
      "391/391 [==============================] - 44s 113ms/step - loss: 0.3320 - sparse_categorical_accuracy: 0.8814\n",
      "Epoch 15/24\n",
      "391/391 [==============================] - 45s 116ms/step - loss: 0.3120 - sparse_categorical_accuracy: 0.8875\n",
      "Epoch 16/24\n",
      "391/391 [==============================] - 45s 116ms/step - loss: 0.2949 - sparse_categorical_accuracy: 0.8930\n",
      "Epoch 17/24\n",
      "391/391 [==============================] - 45s 115ms/step - loss: 0.2754 - sparse_categorical_accuracy: 0.9011\n",
      "Epoch 18/24\n",
      "391/391 [==============================] - 45s 115ms/step - loss: 0.2614 - sparse_categorical_accuracy: 0.9073\n",
      "Epoch 19/24\n",
      "391/391 [==============================] - 46s 116ms/step - loss: 0.2461 - sparse_categorical_accuracy: 0.9109\n",
      "Epoch 20/24\n",
      "391/391 [==============================] - 45s 115ms/step - loss: 0.2272 - sparse_categorical_accuracy: 0.9170\n",
      "Epoch 21/24\n",
      "391/391 [==============================] - 45s 115ms/step - loss: 0.2229 - sparse_categorical_accuracy: 0.9196\n",
      "Epoch 22/24\n",
      "391/391 [==============================] - 46s 118ms/step - loss: 0.2121 - sparse_categorical_accuracy: 0.9228\n",
      "Epoch 23/24\n",
      "391/391 [==============================] - 46s 118ms/step - loss: 0.2049 - sparse_categorical_accuracy: 0.9264\n",
      "Epoch 24/24\n",
      "391/391 [==============================] - 47s 121ms/step - loss: 0.1916 - sparse_categorical_accuracy: 0.9307\n"
     ]
    },
    {
     "data": {
      "text/plain": [
       "<tensorflow.python.keras.callbacks.History at 0x7fe4d8cb42b0>"
      ]
     },
     "execution_count": 19,
     "metadata": {},
     "output_type": "execute_result"
    }
   ],
   "source": [
    "# train the model\n",
    "model.fit(x_train, y_train, batch_size=128, epochs=24)"
   ]
  },
  {
   "cell_type": "markdown",
   "metadata": {},
   "source": [
    "# Evaluate the Model and Make Predictions"
   ]
  },
  {
   "cell_type": "code",
   "execution_count": 20,
   "metadata": {},
   "outputs": [
    {
     "name": "stdout",
     "output_type": "stream",
     "text": [
      "313/313 [==============================] - 4s 12ms/step - loss: 0.8644 - sparse_categorical_accuracy: 0.7754\n"
     ]
    }
   ],
   "source": [
    "# evaluate the model\n",
    "test_loss, test_acc = model.evaluate(x_test, y_test)"
   ]
  },
  {
   "cell_type": "code",
   "execution_count": 21,
   "metadata": {},
   "outputs": [
    {
     "name": "stdout",
     "output_type": "stream",
     "text": [
      "WARNING:tensorflow:From <ipython-input-21-2cadab05f2fb>:2: Sequential.predict_classes (from tensorflow.python.keras.engine.sequential) is deprecated and will be removed after 2021-01-01.\n",
      "Instructions for updating:\n",
      "Please use instead:* `np.argmax(model.predict(x), axis=-1)`,   if your model does multi-class classification   (e.g. if it uses a `softmax` last-layer activation).* `(model.predict(x) > 0.5).astype(\"int32\")`,   if your model does binary classification   (e.g. if it uses a `sigmoid` last-layer activation).\n"
     ]
    }
   ],
   "source": [
    "# make predictions\n",
    "y_pred = model.predict_classes(x_test)"
   ]
  },
  {
   "cell_type": "code",
   "execution_count": 44,
   "metadata": {},
   "outputs": [
    {
     "name": "stdout",
     "output_type": "stream",
     "text": [
      "Predicted at index 0 - 3: cat\n",
      "Actual at index 0    - 3: cat\n"
     ]
    }
   ],
   "source": [
    "# check individual predictions\n",
    "index = 0\n",
    "print(f'Predicted at index {index} - {class_names[y_pred[index]]}')\n",
    "print(f'Actual at index {index}    - {class_names[y_test[index][0]]}')"
   ]
  },
  {
   "cell_type": "code",
   "execution_count": 48,
   "metadata": {},
   "outputs": [
    {
     "data": {
      "image/png": "[encoded data removed]",
      "text/plain": [
       "<Figure size 950x950 with 2 Axes>"
      ]
     },
     "metadata": {
      "needs_background": "light"
     },
     "output_type": "display_data"
    }
   ],
   "source": [
    "# confusion matrix\n",
    "cm = confusion_matrix(y_test, y_pred)\n",
    "\n",
    "label_names = ['airplane', 'automobile', 'bird', 'cat', 'deer', \n",
    "               'dog', 'frog', 'horse', 'ship', 'truck']\n",
    "\n",
    "cm = confusion_matrix(y_test, y_pred)\n",
    "\n",
    "nr_rows = cm.shape[0]\n",
    "nr_cols = cm.shape[1]\n",
    "\n",
    "plt.figure(figsize=(10,10), dpi=95)\n",
    "plt.imshow(cm, cmap=plt.cm.Greens)\n",
    "\n",
    "plt.title('Confusion Matrix', fontsize=16)\n",
    "plt.ylabel('Actual Labels', fontsize=12)\n",
    "plt.xlabel('Predicted Labels', fontsize=12)\n",
    "\n",
    "tick_marks = np.arange(10)\n",
    "plt.yticks(tick_marks, label_names)\n",
    "plt.xticks(tick_marks, label_names)\n",
    "\n",
    "plt.colorbar()\n",
    "\n",
    "for i, j in itertools.product(range(nr_rows), range(nr_cols)):\n",
    "    plt.text(j, i, cm[i, j], horizontalalignment='center',\n",
    "            color='white' if cm[i, j] > cm.max()/2 else 'black')\n",
    "    \n",
    "plt.show()"
   ]
  },
  {
   "cell_type": "code",
   "execution_count": 50,
   "metadata": {},
   "outputs": [
    {
     "name": "stdout",
     "output_type": "stream",
     "text": [
      "Accuracy score from confusion matrix: 77.54%\n"
     ]
    }
   ],
   "source": [
    "acc_cm = accuracy_score(y_test, y_pred)\n",
    "print(f'Accuracy score from confusion matrix: {acc_cm*100:.2f}%')"
   ]
  }
 ],
 "metadata": {
  "kernelspec": {
   "display_name": "Python 3",
   "language": "python",
   "name": "python3"
  },
  "language_info": {
   "codemirror_mode": {
    "name": "ipython",
    "version": 3
   },
   "file_extension": ".py",
   "mimetype": "text/x-python",
   "name": "python",
   "nbconvert_exporter": "python",
   "pygments_lexer": "ipython3",
   "version": "3.8.3"
  }
 },
 "nbformat": 4,
 "nbformat_minor": 4
}
